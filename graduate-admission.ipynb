{
 "cells": [
  {
   "cell_type": "code",
   "execution_count": 1,
   "id": "0316cd42",
   "metadata": {
    "_cell_guid": "b1076dfc-b9ad-4769-8c92-a6c4dae69d19",
    "_uuid": "8f2839f25d086af736a60e9eeb907d3b93b6e0e5",
    "execution": {
     "iopub.execute_input": "2023-08-20T06:07:17.502366Z",
     "iopub.status.busy": "2023-08-20T06:07:17.501993Z",
     "iopub.status.idle": "2023-08-20T06:07:17.522333Z",
     "shell.execute_reply": "2023-08-20T06:07:17.520908Z"
    },
    "papermill": {
     "duration": 0.033091,
     "end_time": "2023-08-20T06:07:17.524794",
     "exception": false,
     "start_time": "2023-08-20T06:07:17.491703",
     "status": "completed"
    },
    "tags": []
   },
   "outputs": [
    {
     "name": "stdout",
     "output_type": "stream",
     "text": [
      "/kaggle/input/graduate-admissions/Admission_Predict.csv\n",
      "/kaggle/input/graduate-admissions/Admission_Predict_Ver1.1.csv\n"
     ]
    }
   ],
   "source": [
    "# This Python 3 environment comes with many helpful analytics libraries installed\n",
    "# It is defined by the kaggle/python Docker image: https://github.com/kaggle/docker-python\n",
    "# For example, here's several helpful packages to load\n",
    "\n",
    "import numpy as np # linear algebra\n",
    "import pandas as pd # data processing, CSV file I/O (e.g. pd.read_csv)\n",
    "\n",
    "# Input data files are available in the read-only \"../input/\" directory\n",
    "# For example, running this (by clicking run or pressing Shift+Enter) will list all files under the input directory\n",
    "\n",
    "import os\n",
    "for dirname, _, filenames in os.walk('/kaggle/input'):\n",
    "    for filename in filenames:\n",
    "        print(os.path.join(dirname, filename))\n",
    "\n",
    "# You can write up to 20GB to the current directory (/kaggle/working/) that gets preserved as output when you create a version using \"Save & Run All\" \n",
    "# You can also write temporary files to /kaggle/temp/, but they won't be saved outside of the current session"
   ]
  },
  {
   "cell_type": "code",
   "execution_count": 2,
   "id": "c90a0e3e",
   "metadata": {
    "execution": {
     "iopub.execute_input": "2023-08-20T06:07:17.542508Z",
     "iopub.status.busy": "2023-08-20T06:07:17.542104Z",
     "iopub.status.idle": "2023-08-20T06:07:17.566829Z",
     "shell.execute_reply": "2023-08-20T06:07:17.565676Z"
    },
    "papermill": {
     "duration": 0.036699,
     "end_time": "2023-08-20T06:07:17.569571",
     "exception": false,
     "start_time": "2023-08-20T06:07:17.532872",
     "status": "completed"
    },
    "tags": []
   },
   "outputs": [],
   "source": [
    "df = pd.read_csv('/kaggle/input/graduate-admissions/Admission_Predict_Ver1.1.csv')"
   ]
  },
  {
   "cell_type": "code",
   "execution_count": 3,
   "id": "937a38d6",
   "metadata": {
    "execution": {
     "iopub.execute_input": "2023-08-20T06:07:17.587780Z",
     "iopub.status.busy": "2023-08-20T06:07:17.586681Z",
     "iopub.status.idle": "2023-08-20T06:07:17.611864Z",
     "shell.execute_reply": "2023-08-20T06:07:17.610720Z"
    },
    "papermill": {
     "duration": 0.036461,
     "end_time": "2023-08-20T06:07:17.614065",
     "exception": false,
     "start_time": "2023-08-20T06:07:17.577604",
     "status": "completed"
    },
    "tags": []
   },
   "outputs": [
    {
     "data": {
      "text/html": [
       "<div>\n",
       "<style scoped>\n",
       "    .dataframe tbody tr th:only-of-type {\n",
       "        vertical-align: middle;\n",
       "    }\n",
       "\n",
       "    .dataframe tbody tr th {\n",
       "        vertical-align: top;\n",
       "    }\n",
       "\n",
       "    .dataframe thead th {\n",
       "        text-align: right;\n",
       "    }\n",
       "</style>\n",
       "<table border=\"1\" class=\"dataframe\">\n",
       "  <thead>\n",
       "    <tr style=\"text-align: right;\">\n",
       "      <th></th>\n",
       "      <th>Serial No.</th>\n",
       "      <th>GRE Score</th>\n",
       "      <th>TOEFL Score</th>\n",
       "      <th>University Rating</th>\n",
       "      <th>SOP</th>\n",
       "      <th>LOR</th>\n",
       "      <th>CGPA</th>\n",
       "      <th>Research</th>\n",
       "      <th>Chance of Admit</th>\n",
       "    </tr>\n",
       "  </thead>\n",
       "  <tbody>\n",
       "    <tr>\n",
       "      <th>0</th>\n",
       "      <td>1</td>\n",
       "      <td>337</td>\n",
       "      <td>118</td>\n",
       "      <td>4</td>\n",
       "      <td>4.5</td>\n",
       "      <td>4.5</td>\n",
       "      <td>9.65</td>\n",
       "      <td>1</td>\n",
       "      <td>0.92</td>\n",
       "    </tr>\n",
       "    <tr>\n",
       "      <th>1</th>\n",
       "      <td>2</td>\n",
       "      <td>324</td>\n",
       "      <td>107</td>\n",
       "      <td>4</td>\n",
       "      <td>4.0</td>\n",
       "      <td>4.5</td>\n",
       "      <td>8.87</td>\n",
       "      <td>1</td>\n",
       "      <td>0.76</td>\n",
       "    </tr>\n",
       "    <tr>\n",
       "      <th>2</th>\n",
       "      <td>3</td>\n",
       "      <td>316</td>\n",
       "      <td>104</td>\n",
       "      <td>3</td>\n",
       "      <td>3.0</td>\n",
       "      <td>3.5</td>\n",
       "      <td>8.00</td>\n",
       "      <td>1</td>\n",
       "      <td>0.72</td>\n",
       "    </tr>\n",
       "    <tr>\n",
       "      <th>3</th>\n",
       "      <td>4</td>\n",
       "      <td>322</td>\n",
       "      <td>110</td>\n",
       "      <td>3</td>\n",
       "      <td>3.5</td>\n",
       "      <td>2.5</td>\n",
       "      <td>8.67</td>\n",
       "      <td>1</td>\n",
       "      <td>0.80</td>\n",
       "    </tr>\n",
       "    <tr>\n",
       "      <th>4</th>\n",
       "      <td>5</td>\n",
       "      <td>314</td>\n",
       "      <td>103</td>\n",
       "      <td>2</td>\n",
       "      <td>2.0</td>\n",
       "      <td>3.0</td>\n",
       "      <td>8.21</td>\n",
       "      <td>0</td>\n",
       "      <td>0.65</td>\n",
       "    </tr>\n",
       "  </tbody>\n",
       "</table>\n",
       "</div>"
      ],
      "text/plain": [
       "   Serial No.  GRE Score  TOEFL Score  University Rating  SOP  LOR   CGPA  \\\n",
       "0           1        337          118                  4  4.5   4.5  9.65   \n",
       "1           2        324          107                  4  4.0   4.5  8.87   \n",
       "2           3        316          104                  3  3.0   3.5  8.00   \n",
       "3           4        322          110                  3  3.5   2.5  8.67   \n",
       "4           5        314          103                  2  2.0   3.0  8.21   \n",
       "\n",
       "   Research  Chance of Admit   \n",
       "0         1              0.92  \n",
       "1         1              0.76  \n",
       "2         1              0.72  \n",
       "3         1              0.80  \n",
       "4         0              0.65  "
      ]
     },
     "execution_count": 3,
     "metadata": {},
     "output_type": "execute_result"
    }
   ],
   "source": [
    "df.head()"
   ]
  },
  {
   "cell_type": "code",
   "execution_count": 4,
   "id": "fb2133b3",
   "metadata": {
    "execution": {
     "iopub.execute_input": "2023-08-20T06:07:17.632511Z",
     "iopub.status.busy": "2023-08-20T06:07:17.631443Z",
     "iopub.status.idle": "2023-08-20T06:07:17.639319Z",
     "shell.execute_reply": "2023-08-20T06:07:17.637637Z"
    },
    "papermill": {
     "duration": 0.019936,
     "end_time": "2023-08-20T06:07:17.641974",
     "exception": false,
     "start_time": "2023-08-20T06:07:17.622038",
     "status": "completed"
    },
    "tags": []
   },
   "outputs": [
    {
     "data": {
      "text/plain": [
       "(500, 9)"
      ]
     },
     "execution_count": 4,
     "metadata": {},
     "output_type": "execute_result"
    }
   ],
   "source": [
    "df.shape"
   ]
  },
  {
   "cell_type": "code",
   "execution_count": 5,
   "id": "17bcd6d9",
   "metadata": {
    "execution": {
     "iopub.execute_input": "2023-08-20T06:07:17.664410Z",
     "iopub.status.busy": "2023-08-20T06:07:17.663644Z",
     "iopub.status.idle": "2023-08-20T06:07:17.691938Z",
     "shell.execute_reply": "2023-08-20T06:07:17.690679Z"
    },
    "papermill": {
     "duration": 0.040791,
     "end_time": "2023-08-20T06:07:17.694517",
     "exception": false,
     "start_time": "2023-08-20T06:07:17.653726",
     "status": "completed"
    },
    "tags": []
   },
   "outputs": [
    {
     "name": "stdout",
     "output_type": "stream",
     "text": [
      "<class 'pandas.core.frame.DataFrame'>\n",
      "RangeIndex: 500 entries, 0 to 499\n",
      "Data columns (total 9 columns):\n",
      " #   Column             Non-Null Count  Dtype  \n",
      "---  ------             --------------  -----  \n",
      " 0   Serial No.         500 non-null    int64  \n",
      " 1   GRE Score          500 non-null    int64  \n",
      " 2   TOEFL Score        500 non-null    int64  \n",
      " 3   University Rating  500 non-null    int64  \n",
      " 4   SOP                500 non-null    float64\n",
      " 5   LOR                500 non-null    float64\n",
      " 6   CGPA               500 non-null    float64\n",
      " 7   Research           500 non-null    int64  \n",
      " 8   Chance of Admit    500 non-null    float64\n",
      "dtypes: float64(4), int64(5)\n",
      "memory usage: 35.3 KB\n"
     ]
    }
   ],
   "source": [
    "df.info()"
   ]
  },
  {
   "cell_type": "code",
   "execution_count": 6,
   "id": "9eb0c66e",
   "metadata": {
    "execution": {
     "iopub.execute_input": "2023-08-20T06:07:17.713611Z",
     "iopub.status.busy": "2023-08-20T06:07:17.713233Z",
     "iopub.status.idle": "2023-08-20T06:07:17.724022Z",
     "shell.execute_reply": "2023-08-20T06:07:17.722839Z"
    },
    "papermill": {
     "duration": 0.022762,
     "end_time": "2023-08-20T06:07:17.726291",
     "exception": false,
     "start_time": "2023-08-20T06:07:17.703529",
     "status": "completed"
    },
    "tags": []
   },
   "outputs": [
    {
     "data": {
      "text/plain": [
       "0"
      ]
     },
     "execution_count": 6,
     "metadata": {},
     "output_type": "execute_result"
    }
   ],
   "source": [
    "df.duplicated().sum()"
   ]
  },
  {
   "cell_type": "code",
   "execution_count": 7,
   "id": "623ca244",
   "metadata": {
    "execution": {
     "iopub.execute_input": "2023-08-20T06:07:17.748555Z",
     "iopub.status.busy": "2023-08-20T06:07:17.748028Z",
     "iopub.status.idle": "2023-08-20T06:07:17.756149Z",
     "shell.execute_reply": "2023-08-20T06:07:17.755040Z"
    },
    "papermill": {
     "duration": 0.022772,
     "end_time": "2023-08-20T06:07:17.760212",
     "exception": false,
     "start_time": "2023-08-20T06:07:17.737440",
     "status": "completed"
    },
    "tags": []
   },
   "outputs": [],
   "source": [
    "df.drop(columns=[\"Serial No.\"],inplace=True)"
   ]
  },
  {
   "cell_type": "code",
   "execution_count": 8,
   "id": "c0ae3a71",
   "metadata": {
    "execution": {
     "iopub.execute_input": "2023-08-20T06:07:17.780538Z",
     "iopub.status.busy": "2023-08-20T06:07:17.779776Z",
     "iopub.status.idle": "2023-08-20T06:07:17.796994Z",
     "shell.execute_reply": "2023-08-20T06:07:17.796124Z"
    },
    "papermill": {
     "duration": 0.029954,
     "end_time": "2023-08-20T06:07:17.798955",
     "exception": false,
     "start_time": "2023-08-20T06:07:17.769001",
     "status": "completed"
    },
    "tags": []
   },
   "outputs": [
    {
     "data": {
      "text/html": [
       "<div>\n",
       "<style scoped>\n",
       "    .dataframe tbody tr th:only-of-type {\n",
       "        vertical-align: middle;\n",
       "    }\n",
       "\n",
       "    .dataframe tbody tr th {\n",
       "        vertical-align: top;\n",
       "    }\n",
       "\n",
       "    .dataframe thead th {\n",
       "        text-align: right;\n",
       "    }\n",
       "</style>\n",
       "<table border=\"1\" class=\"dataframe\">\n",
       "  <thead>\n",
       "    <tr style=\"text-align: right;\">\n",
       "      <th></th>\n",
       "      <th>GRE Score</th>\n",
       "      <th>TOEFL Score</th>\n",
       "      <th>University Rating</th>\n",
       "      <th>SOP</th>\n",
       "      <th>LOR</th>\n",
       "      <th>CGPA</th>\n",
       "      <th>Research</th>\n",
       "      <th>Chance of Admit</th>\n",
       "    </tr>\n",
       "  </thead>\n",
       "  <tbody>\n",
       "    <tr>\n",
       "      <th>0</th>\n",
       "      <td>337</td>\n",
       "      <td>118</td>\n",
       "      <td>4</td>\n",
       "      <td>4.5</td>\n",
       "      <td>4.5</td>\n",
       "      <td>9.65</td>\n",
       "      <td>1</td>\n",
       "      <td>0.92</td>\n",
       "    </tr>\n",
       "    <tr>\n",
       "      <th>1</th>\n",
       "      <td>324</td>\n",
       "      <td>107</td>\n",
       "      <td>4</td>\n",
       "      <td>4.0</td>\n",
       "      <td>4.5</td>\n",
       "      <td>8.87</td>\n",
       "      <td>1</td>\n",
       "      <td>0.76</td>\n",
       "    </tr>\n",
       "    <tr>\n",
       "      <th>2</th>\n",
       "      <td>316</td>\n",
       "      <td>104</td>\n",
       "      <td>3</td>\n",
       "      <td>3.0</td>\n",
       "      <td>3.5</td>\n",
       "      <td>8.00</td>\n",
       "      <td>1</td>\n",
       "      <td>0.72</td>\n",
       "    </tr>\n",
       "    <tr>\n",
       "      <th>3</th>\n",
       "      <td>322</td>\n",
       "      <td>110</td>\n",
       "      <td>3</td>\n",
       "      <td>3.5</td>\n",
       "      <td>2.5</td>\n",
       "      <td>8.67</td>\n",
       "      <td>1</td>\n",
       "      <td>0.80</td>\n",
       "    </tr>\n",
       "    <tr>\n",
       "      <th>4</th>\n",
       "      <td>314</td>\n",
       "      <td>103</td>\n",
       "      <td>2</td>\n",
       "      <td>2.0</td>\n",
       "      <td>3.0</td>\n",
       "      <td>8.21</td>\n",
       "      <td>0</td>\n",
       "      <td>0.65</td>\n",
       "    </tr>\n",
       "  </tbody>\n",
       "</table>\n",
       "</div>"
      ],
      "text/plain": [
       "   GRE Score  TOEFL Score  University Rating  SOP  LOR   CGPA  Research  \\\n",
       "0        337          118                  4  4.5   4.5  9.65         1   \n",
       "1        324          107                  4  4.0   4.5  8.87         1   \n",
       "2        316          104                  3  3.0   3.5  8.00         1   \n",
       "3        322          110                  3  3.5   2.5  8.67         1   \n",
       "4        314          103                  2  2.0   3.0  8.21         0   \n",
       "\n",
       "   Chance of Admit   \n",
       "0              0.92  \n",
       "1              0.76  \n",
       "2              0.72  \n",
       "3              0.80  \n",
       "4              0.65  "
      ]
     },
     "execution_count": 8,
     "metadata": {},
     "output_type": "execute_result"
    }
   ],
   "source": [
    "df.head()"
   ]
  },
  {
   "cell_type": "code",
   "execution_count": 9,
   "id": "e879dd89",
   "metadata": {
    "execution": {
     "iopub.execute_input": "2023-08-20T06:07:17.818452Z",
     "iopub.status.busy": "2023-08-20T06:07:17.817663Z",
     "iopub.status.idle": "2023-08-20T06:07:17.822700Z",
     "shell.execute_reply": "2023-08-20T06:07:17.821827Z"
    },
    "papermill": {
     "duration": 0.017119,
     "end_time": "2023-08-20T06:07:17.824801",
     "exception": false,
     "start_time": "2023-08-20T06:07:17.807682",
     "status": "completed"
    },
    "tags": []
   },
   "outputs": [],
   "source": [
    "X = df.iloc[:,0:-1]\n",
    "Y = df.iloc[:,-1]"
   ]
  },
  {
   "cell_type": "code",
   "execution_count": 10,
   "id": "68ade8e7",
   "metadata": {
    "execution": {
     "iopub.execute_input": "2023-08-20T06:07:17.844618Z",
     "iopub.status.busy": "2023-08-20T06:07:17.843912Z",
     "iopub.status.idle": "2023-08-20T06:07:17.860458Z",
     "shell.execute_reply": "2023-08-20T06:07:17.859031Z"
    },
    "papermill": {
     "duration": 0.029272,
     "end_time": "2023-08-20T06:07:17.862846",
     "exception": false,
     "start_time": "2023-08-20T06:07:17.833574",
     "status": "completed"
    },
    "tags": []
   },
   "outputs": [
    {
     "data": {
      "text/html": [
       "<div>\n",
       "<style scoped>\n",
       "    .dataframe tbody tr th:only-of-type {\n",
       "        vertical-align: middle;\n",
       "    }\n",
       "\n",
       "    .dataframe tbody tr th {\n",
       "        vertical-align: top;\n",
       "    }\n",
       "\n",
       "    .dataframe thead th {\n",
       "        text-align: right;\n",
       "    }\n",
       "</style>\n",
       "<table border=\"1\" class=\"dataframe\">\n",
       "  <thead>\n",
       "    <tr style=\"text-align: right;\">\n",
       "      <th></th>\n",
       "      <th>GRE Score</th>\n",
       "      <th>TOEFL Score</th>\n",
       "      <th>University Rating</th>\n",
       "      <th>SOP</th>\n",
       "      <th>LOR</th>\n",
       "      <th>CGPA</th>\n",
       "      <th>Research</th>\n",
       "    </tr>\n",
       "  </thead>\n",
       "  <tbody>\n",
       "    <tr>\n",
       "      <th>0</th>\n",
       "      <td>337</td>\n",
       "      <td>118</td>\n",
       "      <td>4</td>\n",
       "      <td>4.5</td>\n",
       "      <td>4.5</td>\n",
       "      <td>9.65</td>\n",
       "      <td>1</td>\n",
       "    </tr>\n",
       "    <tr>\n",
       "      <th>1</th>\n",
       "      <td>324</td>\n",
       "      <td>107</td>\n",
       "      <td>4</td>\n",
       "      <td>4.0</td>\n",
       "      <td>4.5</td>\n",
       "      <td>8.87</td>\n",
       "      <td>1</td>\n",
       "    </tr>\n",
       "    <tr>\n",
       "      <th>2</th>\n",
       "      <td>316</td>\n",
       "      <td>104</td>\n",
       "      <td>3</td>\n",
       "      <td>3.0</td>\n",
       "      <td>3.5</td>\n",
       "      <td>8.00</td>\n",
       "      <td>1</td>\n",
       "    </tr>\n",
       "    <tr>\n",
       "      <th>3</th>\n",
       "      <td>322</td>\n",
       "      <td>110</td>\n",
       "      <td>3</td>\n",
       "      <td>3.5</td>\n",
       "      <td>2.5</td>\n",
       "      <td>8.67</td>\n",
       "      <td>1</td>\n",
       "    </tr>\n",
       "    <tr>\n",
       "      <th>4</th>\n",
       "      <td>314</td>\n",
       "      <td>103</td>\n",
       "      <td>2</td>\n",
       "      <td>2.0</td>\n",
       "      <td>3.0</td>\n",
       "      <td>8.21</td>\n",
       "      <td>0</td>\n",
       "    </tr>\n",
       "    <tr>\n",
       "      <th>...</th>\n",
       "      <td>...</td>\n",
       "      <td>...</td>\n",
       "      <td>...</td>\n",
       "      <td>...</td>\n",
       "      <td>...</td>\n",
       "      <td>...</td>\n",
       "      <td>...</td>\n",
       "    </tr>\n",
       "    <tr>\n",
       "      <th>495</th>\n",
       "      <td>332</td>\n",
       "      <td>108</td>\n",
       "      <td>5</td>\n",
       "      <td>4.5</td>\n",
       "      <td>4.0</td>\n",
       "      <td>9.02</td>\n",
       "      <td>1</td>\n",
       "    </tr>\n",
       "    <tr>\n",
       "      <th>496</th>\n",
       "      <td>337</td>\n",
       "      <td>117</td>\n",
       "      <td>5</td>\n",
       "      <td>5.0</td>\n",
       "      <td>5.0</td>\n",
       "      <td>9.87</td>\n",
       "      <td>1</td>\n",
       "    </tr>\n",
       "    <tr>\n",
       "      <th>497</th>\n",
       "      <td>330</td>\n",
       "      <td>120</td>\n",
       "      <td>5</td>\n",
       "      <td>4.5</td>\n",
       "      <td>5.0</td>\n",
       "      <td>9.56</td>\n",
       "      <td>1</td>\n",
       "    </tr>\n",
       "    <tr>\n",
       "      <th>498</th>\n",
       "      <td>312</td>\n",
       "      <td>103</td>\n",
       "      <td>4</td>\n",
       "      <td>4.0</td>\n",
       "      <td>5.0</td>\n",
       "      <td>8.43</td>\n",
       "      <td>0</td>\n",
       "    </tr>\n",
       "    <tr>\n",
       "      <th>499</th>\n",
       "      <td>327</td>\n",
       "      <td>113</td>\n",
       "      <td>4</td>\n",
       "      <td>4.5</td>\n",
       "      <td>4.5</td>\n",
       "      <td>9.04</td>\n",
       "      <td>0</td>\n",
       "    </tr>\n",
       "  </tbody>\n",
       "</table>\n",
       "<p>500 rows × 7 columns</p>\n",
       "</div>"
      ],
      "text/plain": [
       "     GRE Score  TOEFL Score  University Rating  SOP  LOR   CGPA  Research\n",
       "0          337          118                  4  4.5   4.5  9.65         1\n",
       "1          324          107                  4  4.0   4.5  8.87         1\n",
       "2          316          104                  3  3.0   3.5  8.00         1\n",
       "3          322          110                  3  3.5   2.5  8.67         1\n",
       "4          314          103                  2  2.0   3.0  8.21         0\n",
       "..         ...          ...                ...  ...   ...   ...       ...\n",
       "495        332          108                  5  4.5   4.0  9.02         1\n",
       "496        337          117                  5  5.0   5.0  9.87         1\n",
       "497        330          120                  5  4.5   5.0  9.56         1\n",
       "498        312          103                  4  4.0   5.0  8.43         0\n",
       "499        327          113                  4  4.5   4.5  9.04         0\n",
       "\n",
       "[500 rows x 7 columns]"
      ]
     },
     "execution_count": 10,
     "metadata": {},
     "output_type": "execute_result"
    }
   ],
   "source": [
    "X"
   ]
  },
  {
   "cell_type": "code",
   "execution_count": 11,
   "id": "f0b34aec",
   "metadata": {
    "execution": {
     "iopub.execute_input": "2023-08-20T06:07:17.882468Z",
     "iopub.status.busy": "2023-08-20T06:07:17.882043Z",
     "iopub.status.idle": "2023-08-20T06:07:17.890597Z",
     "shell.execute_reply": "2023-08-20T06:07:17.889514Z"
    },
    "papermill": {
     "duration": 0.020973,
     "end_time": "2023-08-20T06:07:17.892784",
     "exception": false,
     "start_time": "2023-08-20T06:07:17.871811",
     "status": "completed"
    },
    "tags": []
   },
   "outputs": [
    {
     "data": {
      "text/plain": [
       "0      0.92\n",
       "1      0.76\n",
       "2      0.72\n",
       "3      0.80\n",
       "4      0.65\n",
       "       ... \n",
       "495    0.87\n",
       "496    0.96\n",
       "497    0.93\n",
       "498    0.73\n",
       "499    0.84\n",
       "Name: Chance of Admit , Length: 500, dtype: float64"
      ]
     },
     "execution_count": 11,
     "metadata": {},
     "output_type": "execute_result"
    }
   ],
   "source": [
    "Y"
   ]
  },
  {
   "cell_type": "code",
   "execution_count": 12,
   "id": "ed7efbdf",
   "metadata": {
    "execution": {
     "iopub.execute_input": "2023-08-20T06:07:17.913017Z",
     "iopub.status.busy": "2023-08-20T06:07:17.912585Z",
     "iopub.status.idle": "2023-08-20T06:07:19.241580Z",
     "shell.execute_reply": "2023-08-20T06:07:19.240633Z"
    },
    "papermill": {
     "duration": 1.342051,
     "end_time": "2023-08-20T06:07:19.244033",
     "exception": false,
     "start_time": "2023-08-20T06:07:17.901982",
     "status": "completed"
    },
    "tags": []
   },
   "outputs": [
    {
     "name": "stderr",
     "output_type": "stream",
     "text": [
      "/opt/conda/lib/python3.10/site-packages/scipy/__init__.py:146: UserWarning: A NumPy version >=1.16.5 and <1.23.0 is required for this version of SciPy (detected version 1.23.5\n",
      "  warnings.warn(f\"A NumPy version >={np_minversion} and <{np_maxversion}\"\n"
     ]
    }
   ],
   "source": [
    "from sklearn.model_selection import train_test_split\n",
    "X_train,X_test,Y_train,Y_test = train_test_split(X,Y,test_size=0.2)"
   ]
  },
  {
   "cell_type": "code",
   "execution_count": 13,
   "id": "a60a0771",
   "metadata": {
    "execution": {
     "iopub.execute_input": "2023-08-20T06:07:19.264397Z",
     "iopub.status.busy": "2023-08-20T06:07:19.263976Z",
     "iopub.status.idle": "2023-08-20T06:07:19.282027Z",
     "shell.execute_reply": "2023-08-20T06:07:19.280991Z"
    },
    "papermill": {
     "duration": 0.030805,
     "end_time": "2023-08-20T06:07:19.284217",
     "exception": false,
     "start_time": "2023-08-20T06:07:19.253412",
     "status": "completed"
    },
    "tags": []
   },
   "outputs": [
    {
     "data": {
      "text/html": [
       "<div>\n",
       "<style scoped>\n",
       "    .dataframe tbody tr th:only-of-type {\n",
       "        vertical-align: middle;\n",
       "    }\n",
       "\n",
       "    .dataframe tbody tr th {\n",
       "        vertical-align: top;\n",
       "    }\n",
       "\n",
       "    .dataframe thead th {\n",
       "        text-align: right;\n",
       "    }\n",
       "</style>\n",
       "<table border=\"1\" class=\"dataframe\">\n",
       "  <thead>\n",
       "    <tr style=\"text-align: right;\">\n",
       "      <th></th>\n",
       "      <th>GRE Score</th>\n",
       "      <th>TOEFL Score</th>\n",
       "      <th>University Rating</th>\n",
       "      <th>SOP</th>\n",
       "      <th>LOR</th>\n",
       "      <th>CGPA</th>\n",
       "      <th>Research</th>\n",
       "    </tr>\n",
       "  </thead>\n",
       "  <tbody>\n",
       "    <tr>\n",
       "      <th>349</th>\n",
       "      <td>313</td>\n",
       "      <td>101</td>\n",
       "      <td>3</td>\n",
       "      <td>2.5</td>\n",
       "      <td>3.0</td>\n",
       "      <td>8.04</td>\n",
       "      <td>0</td>\n",
       "    </tr>\n",
       "    <tr>\n",
       "      <th>429</th>\n",
       "      <td>340</td>\n",
       "      <td>115</td>\n",
       "      <td>5</td>\n",
       "      <td>5.0</td>\n",
       "      <td>4.5</td>\n",
       "      <td>9.06</td>\n",
       "      <td>1</td>\n",
       "    </tr>\n",
       "    <tr>\n",
       "      <th>428</th>\n",
       "      <td>316</td>\n",
       "      <td>103</td>\n",
       "      <td>2</td>\n",
       "      <td>2.0</td>\n",
       "      <td>4.5</td>\n",
       "      <td>8.74</td>\n",
       "      <td>0</td>\n",
       "    </tr>\n",
       "    <tr>\n",
       "      <th>402</th>\n",
       "      <td>324</td>\n",
       "      <td>109</td>\n",
       "      <td>3</td>\n",
       "      <td>3.5</td>\n",
       "      <td>3.0</td>\n",
       "      <td>8.94</td>\n",
       "      <td>1</td>\n",
       "    </tr>\n",
       "    <tr>\n",
       "      <th>468</th>\n",
       "      <td>323</td>\n",
       "      <td>110</td>\n",
       "      <td>4</td>\n",
       "      <td>4.0</td>\n",
       "      <td>5.0</td>\n",
       "      <td>8.88</td>\n",
       "      <td>1</td>\n",
       "    </tr>\n",
       "    <tr>\n",
       "      <th>...</th>\n",
       "      <td>...</td>\n",
       "      <td>...</td>\n",
       "      <td>...</td>\n",
       "      <td>...</td>\n",
       "      <td>...</td>\n",
       "      <td>...</td>\n",
       "      <td>...</td>\n",
       "    </tr>\n",
       "    <tr>\n",
       "      <th>231</th>\n",
       "      <td>319</td>\n",
       "      <td>106</td>\n",
       "      <td>3</td>\n",
       "      <td>3.5</td>\n",
       "      <td>2.5</td>\n",
       "      <td>8.33</td>\n",
       "      <td>1</td>\n",
       "    </tr>\n",
       "    <tr>\n",
       "      <th>300</th>\n",
       "      <td>309</td>\n",
       "      <td>106</td>\n",
       "      <td>2</td>\n",
       "      <td>2.5</td>\n",
       "      <td>2.5</td>\n",
       "      <td>8.00</td>\n",
       "      <td>0</td>\n",
       "    </tr>\n",
       "    <tr>\n",
       "      <th>105</th>\n",
       "      <td>316</td>\n",
       "      <td>110</td>\n",
       "      <td>3</td>\n",
       "      <td>4.0</td>\n",
       "      <td>4.5</td>\n",
       "      <td>8.78</td>\n",
       "      <td>1</td>\n",
       "    </tr>\n",
       "    <tr>\n",
       "      <th>140</th>\n",
       "      <td>329</td>\n",
       "      <td>110</td>\n",
       "      <td>2</td>\n",
       "      <td>4.0</td>\n",
       "      <td>3.0</td>\n",
       "      <td>9.15</td>\n",
       "      <td>1</td>\n",
       "    </tr>\n",
       "    <tr>\n",
       "      <th>380</th>\n",
       "      <td>322</td>\n",
       "      <td>104</td>\n",
       "      <td>3</td>\n",
       "      <td>3.5</td>\n",
       "      <td>4.0</td>\n",
       "      <td>8.84</td>\n",
       "      <td>1</td>\n",
       "    </tr>\n",
       "  </tbody>\n",
       "</table>\n",
       "<p>400 rows × 7 columns</p>\n",
       "</div>"
      ],
      "text/plain": [
       "     GRE Score  TOEFL Score  University Rating  SOP  LOR   CGPA  Research\n",
       "349        313          101                  3  2.5   3.0  8.04         0\n",
       "429        340          115                  5  5.0   4.5  9.06         1\n",
       "428        316          103                  2  2.0   4.5  8.74         0\n",
       "402        324          109                  3  3.5   3.0  8.94         1\n",
       "468        323          110                  4  4.0   5.0  8.88         1\n",
       "..         ...          ...                ...  ...   ...   ...       ...\n",
       "231        319          106                  3  3.5   2.5  8.33         1\n",
       "300        309          106                  2  2.5   2.5  8.00         0\n",
       "105        316          110                  3  4.0   4.5  8.78         1\n",
       "140        329          110                  2  4.0   3.0  9.15         1\n",
       "380        322          104                  3  3.5   4.0  8.84         1\n",
       "\n",
       "[400 rows x 7 columns]"
      ]
     },
     "execution_count": 13,
     "metadata": {},
     "output_type": "execute_result"
    }
   ],
   "source": [
    "X_train"
   ]
  },
  {
   "cell_type": "code",
   "execution_count": 14,
   "id": "1bc52d42",
   "metadata": {
    "execution": {
     "iopub.execute_input": "2023-08-20T06:07:19.304444Z",
     "iopub.status.busy": "2023-08-20T06:07:19.304047Z",
     "iopub.status.idle": "2023-08-20T06:07:19.315461Z",
     "shell.execute_reply": "2023-08-20T06:07:19.314381Z"
    },
    "papermill": {
     "duration": 0.024328,
     "end_time": "2023-08-20T06:07:19.317946",
     "exception": false,
     "start_time": "2023-08-20T06:07:19.293618",
     "status": "completed"
    },
    "tags": []
   },
   "outputs": [],
   "source": [
    "from sklearn.preprocessing import MinMaxScaler\n",
    "scaler = MinMaxScaler()\n",
    "\n",
    "X_train_scaled = scaler.fit_transform(X_train)\n",
    "X_test_scaled = scaler.transform(X_test)\n"
   ]
  },
  {
   "cell_type": "code",
   "execution_count": 15,
   "id": "eabbc127",
   "metadata": {
    "execution": {
     "iopub.execute_input": "2023-08-20T06:07:19.338457Z",
     "iopub.status.busy": "2023-08-20T06:07:19.338010Z",
     "iopub.status.idle": "2023-08-20T06:07:19.345736Z",
     "shell.execute_reply": "2023-08-20T06:07:19.344696Z"
    },
    "papermill": {
     "duration": 0.020247,
     "end_time": "2023-08-20T06:07:19.347753",
     "exception": false,
     "start_time": "2023-08-20T06:07:19.327506",
     "status": "completed"
    },
    "tags": []
   },
   "outputs": [
    {
     "data": {
      "text/plain": [
       "array([[0.46      , 0.32142857, 0.5       , ..., 0.5       , 0.3974359 ,\n",
       "        0.        ],\n",
       "       [1.        , 0.82142857, 1.        , ..., 0.875     , 0.72435897,\n",
       "        1.        ],\n",
       "       [0.52      , 0.39285714, 0.25      , ..., 0.875     , 0.62179487,\n",
       "        0.        ],\n",
       "       ...,\n",
       "       [0.52      , 0.64285714, 0.5       , ..., 0.875     , 0.63461538,\n",
       "        1.        ],\n",
       "       [0.78      , 0.64285714, 0.25      , ..., 0.5       , 0.75320513,\n",
       "        1.        ],\n",
       "       [0.64      , 0.42857143, 0.5       , ..., 0.75      , 0.65384615,\n",
       "        1.        ]])"
      ]
     },
     "execution_count": 15,
     "metadata": {},
     "output_type": "execute_result"
    }
   ],
   "source": [
    "X_train_scaled"
   ]
  },
  {
   "cell_type": "code",
   "execution_count": 16,
   "id": "662e3d6a",
   "metadata": {
    "execution": {
     "iopub.execute_input": "2023-08-20T06:07:19.368212Z",
     "iopub.status.busy": "2023-08-20T06:07:19.367844Z",
     "iopub.status.idle": "2023-08-20T06:07:19.380002Z",
     "shell.execute_reply": "2023-08-20T06:07:19.378883Z"
    },
    "papermill": {
     "duration": 0.025337,
     "end_time": "2023-08-20T06:07:19.382498",
     "exception": false,
     "start_time": "2023-08-20T06:07:19.357161",
     "status": "completed"
    },
    "tags": []
   },
   "outputs": [
    {
     "data": {
      "text/plain": [
       "array([[0.38      , 0.57142857, 0.5       , 0.375     , 0.5       ,\n",
       "        0.42307692, 0.        ],\n",
       "       [0.68      , 0.75      , 0.75      , 0.875     , 0.75      ,\n",
       "        0.63782051, 0.        ],\n",
       "       [0.48      , 0.57142857, 0.5       , 0.875     , 0.625     ,\n",
       "        0.42948718, 0.        ],\n",
       "       [0.5       , 0.25      , 0.25      , 0.625     , 0.5       ,\n",
       "        0.34935897, 0.        ],\n",
       "       [0.74      , 0.75      , 0.75      , 0.625     , 0.5       ,\n",
       "        0.60576923, 1.        ],\n",
       "       [0.42      , 0.42857143, 0.5       , 0.625     , 0.25      ,\n",
       "        0.44871795, 1.        ],\n",
       "       [0.9       , 0.89285714, 1.        , 1.        , 1.        ,\n",
       "        0.96794872, 1.        ],\n",
       "       [0.18      , 0.35714286, 0.5       , 0.75      , 0.625     ,\n",
       "        0.58333333, 0.        ],\n",
       "       [0.42      , 0.46428571, 0.5       , 0.625     , 0.5       ,\n",
       "        0.52884615, 1.        ],\n",
       "       [0.22      , 0.5       , 0.75      , 0.375     , 0.5       ,\n",
       "        0.53525641, 0.        ],\n",
       "       [0.68      , 0.64285714, 0.5       , 0.625     , 0.5       ,\n",
       "        0.77564103, 1.        ],\n",
       "       [0.94      , 0.89285714, 1.        , 1.        , 1.        ,\n",
       "        0.98397436, 1.        ],\n",
       "       [0.72      , 0.71428571, 0.75      , 0.75      , 0.625     ,\n",
       "        0.74358974, 1.        ],\n",
       "       [0.48      , 0.42857143, 0.75      , 1.        , 1.        ,\n",
       "        0.71153846, 0.        ],\n",
       "       [0.6       , 0.42857143, 0.5       , 0.625     , 0.875     ,\n",
       "        0.49358974, 1.        ],\n",
       "       [0.62      , 0.78571429, 0.75      , 0.75      , 1.        ,\n",
       "        0.74358974, 0.        ],\n",
       "       [0.8       , 0.75      , 1.        , 1.        , 0.75      ,\n",
       "        0.80448718, 1.        ],\n",
       "       [0.32      , 0.5       , 0.25      , 0.25      , 0.375     ,\n",
       "        0.42948718, 0.        ],\n",
       "       [0.68      , 0.71428571, 1.        , 1.        , 1.        ,\n",
       "        0.73076923, 1.        ],\n",
       "       [0.56      , 0.5       , 0.25      , 0.75      , 0.75      ,\n",
       "        0.35897436, 1.        ],\n",
       "       [0.14      , 0.14285714, 0.25      , 0.375     , 0.25      ,\n",
       "        0.20192308, 0.        ],\n",
       "       [0.56      , 0.5       , 0.5       , 0.25      , 0.5       ,\n",
       "        0.59294872, 0.        ],\n",
       "       [0.36      , 0.35714286, 0.25      , 0.25      , 0.625     ,\n",
       "        0.37820513, 1.        ],\n",
       "       [0.3       , 0.46428571, 0.25      , 0.5       , 0.75      ,\n",
       "        0.42628205, 0.        ],\n",
       "       [0.48      , 0.64285714, 0.5       , 0.75      , 0.75      ,\n",
       "        0.64102564, 0.        ],\n",
       "       [0.68      , 0.64285714, 0.5       , 0.625     , 0.625     ,\n",
       "        0.71794872, 1.        ],\n",
       "       [0.72      , 0.67857143, 1.        , 0.875     , 0.75      ,\n",
       "        0.77884615, 1.        ],\n",
       "       [0.7       , 0.64285714, 0.75      , 0.875     , 0.75      ,\n",
       "        0.69230769, 1.        ],\n",
       "       [0.3       , 0.35714286, 0.25      , 0.25      , 0.375     ,\n",
       "        0.44230769, 0.        ],\n",
       "       [0.68      , 0.46428571, 0.5       , 0.5       , 0.75      ,\n",
       "        0.625     , 0.        ],\n",
       "       [0.82      , 0.96428571, 0.75      , 1.        , 0.875     ,\n",
       "        0.81410256, 1.        ],\n",
       "       [0.54      , 0.5       , 0.        , 0.125     , 0.625     ,\n",
       "        0.2724359 , 1.        ],\n",
       "       [0.74      , 0.60714286, 0.5       , 0.625     , 0.75      ,\n",
       "        0.63141026, 1.        ],\n",
       "       [0.16      , 0.32142857, 0.75      , 0.375     , 0.875     ,\n",
       "        0.28525641, 1.        ],\n",
       "       [0.76      , 0.85714286, 1.        , 1.        , 1.        ,\n",
       "        0.86538462, 1.        ],\n",
       "       [0.12      , 0.25      , 0.25      , 0.5       , 0.625     ,\n",
       "        0.15384615, 0.        ],\n",
       "       [0.64      , 0.71428571, 0.5       , 0.5       , 0.75      ,\n",
       "        0.58333333, 1.        ],\n",
       "       [0.32      , 0.39285714, 0.25      , 0.375     , 0.5       ,\n",
       "        0.5       , 0.        ],\n",
       "       [0.72      , 0.85714286, 0.25      , 0.875     , 0.5       ,\n",
       "        0.73076923, 1.        ],\n",
       "       [0.76      , 0.85714286, 0.75      , 1.        , 0.625     ,\n",
       "        0.8974359 , 1.        ],\n",
       "       [0.5       , 0.53571429, 0.25      , 0.75      , 0.5       ,\n",
       "        0.54487179, 1.        ],\n",
       "       [0.46      , 0.39285714, 0.5       , 0.75      , 0.75      ,\n",
       "        0.625     , 0.        ],\n",
       "       [0.44      , 0.32142857, 0.25      , 0.375     , 0.625     ,\n",
       "        0.3974359 , 1.        ],\n",
       "       [0.28      , 0.28571429, 0.25      , 0.375     , 0.625     ,\n",
       "        0.40705128, 0.        ],\n",
       "       [0.12      , 0.10714286, 0.25      , 0.5       , 0.25      ,\n",
       "        0.23717949, 1.        ],\n",
       "       [0.46      , 0.35714286, 0.5       , 0.25      , 0.5       ,\n",
       "        0.47115385, 0.        ],\n",
       "       [0.66      , 0.64285714, 1.        , 0.75      , 1.        ,\n",
       "        0.69871795, 1.        ],\n",
       "       [0.54      , 0.53571429, 0.5       , 0.625     , 0.5       ,\n",
       "        0.6025641 , 1.        ],\n",
       "       [0.26      , 0.28571429, 0.25      , 0.5       , 0.625     ,\n",
       "        0.40384615, 1.        ],\n",
       "       [0.62      , 0.67857143, 0.75      , 0.75      , 0.75      ,\n",
       "        0.69551282, 1.        ],\n",
       "       [0.16      , 0.32142857, 0.25      , 0.125     , 0.25      ,\n",
       "        0.33974359, 0.        ],\n",
       "       [0.54      , 0.53571429, 0.5       , 0.75      , 0.5       ,\n",
       "        0.60897436, 0.        ],\n",
       "       [0.68      , 0.71428571, 0.75      , 0.875     , 0.75      ,\n",
       "        0.77564103, 1.        ],\n",
       "       [0.56      , 0.39285714, 0.5       , 0.75      , 0.875     ,\n",
       "        0.54166667, 1.        ],\n",
       "       [0.62      , 0.78571429, 1.        , 0.875     , 0.875     ,\n",
       "        0.75641026, 1.        ],\n",
       "       [0.84      , 0.92857143, 1.        , 1.        , 1.        ,\n",
       "        0.85576923, 1.        ],\n",
       "       [0.34      , 0.32142857, 0.5       , 0.75      , 0.5       ,\n",
       "        0.44871795, 0.        ],\n",
       "       [0.1       , 0.32142857, 0.25      , 0.375     , 0.25      ,\n",
       "        0.33974359, 0.        ],\n",
       "       [0.42      , 0.39285714, 0.5       , 0.25      , 0.75      ,\n",
       "        0.41346154, 0.        ],\n",
       "       [0.72      , 0.85714286, 0.5       , 0.625     , 0.75      ,\n",
       "        0.75      , 1.        ],\n",
       "       [0.96      , 0.92857143, 0.75      , 0.5       , 0.875     ,\n",
       "        0.83333333, 1.        ],\n",
       "       [0.5       , 0.32142857, 0.5       , 0.625     , 0.875     ,\n",
       "        0.74679487, 0.        ],\n",
       "       [0.36      , 0.60714286, 0.25      , 0.5       , 0.75      ,\n",
       "        0.52884615, 0.        ],\n",
       "       [1.        , 1.        , 0.75      , 1.        , 1.        ,\n",
       "        0.86538462, 1.        ],\n",
       "       [0.44      , 0.46428571, 0.25      , 0.25      , 0.375     ,\n",
       "        0.52884615, 0.        ],\n",
       "       [0.48      , 0.53571429, 0.5       , 0.5       , 0.625     ,\n",
       "        0.43910256, 1.        ],\n",
       "       [0.78      , 0.67857143, 0.75      , 0.875     , 0.75      ,\n",
       "        0.77884615, 1.        ],\n",
       "       [0.72      , 0.71428571, 0.5       , 0.625     , 0.5       ,\n",
       "        0.73717949, 1.        ],\n",
       "       [0.6       , 0.71428571, 0.75      , 0.5       , 0.875     ,\n",
       "        0.66025641, 1.        ],\n",
       "       [0.64      , 0.82142857, 1.        , 0.75      , 0.875     ,\n",
       "        0.82051282, 1.        ],\n",
       "       [0.62      , 0.71428571, 1.        , 1.        , 1.        ,\n",
       "        0.72435897, 1.        ],\n",
       "       [0.5       , 0.5       , 0.5       , 0.875     , 0.625     ,\n",
       "        0.51923077, 0.        ],\n",
       "       [0.72      , 0.78571429, 0.5       , 0.5       , 0.5       ,\n",
       "        0.74038462, 1.        ],\n",
       "       [0.84      , 0.92857143, 0.25      , 0.875     , 0.625     ,\n",
       "        0.82051282, 1.        ],\n",
       "       [0.66      , 0.42857143, 0.5       , 0.75      , 0.75      ,\n",
       "        0.52564103, 1.        ],\n",
       "       [0.62      , 0.67857143, 1.        , 1.        , 1.        ,\n",
       "        0.84935897, 1.        ],\n",
       "       [0.58      , 0.5       , 0.5       , 0.75      , 0.5       ,\n",
       "        0.38461538, 1.        ],\n",
       "       [0.64      , 0.60714286, 1.        , 0.875     , 0.625     ,\n",
       "        0.64102564, 0.        ],\n",
       "       [0.58      , 0.39285714, 0.75      , 0.875     , 0.625     ,\n",
       "        0.59615385, 0.        ],\n",
       "       [0.28      , 0.46428571, 0.        , 0.5       , 0.125     ,\n",
       "        0.22435897, 0.        ],\n",
       "       [0.28      , 0.53571429, 0.5       , 0.625     , 0.5       ,\n",
       "        0.33974359, 0.        ],\n",
       "       [0.6       , 0.64285714, 1.        , 1.        , 0.875     ,\n",
       "        0.77564103, 1.        ],\n",
       "       [0.44      , 0.53571429, 0.5       , 0.5       , 0.5       ,\n",
       "        0.53205128, 1.        ],\n",
       "       [0.52      , 0.39285714, 0.5       , 0.625     , 0.25      ,\n",
       "        0.28205128, 0.        ],\n",
       "       [0.8       , 0.82142857, 1.        , 0.875     , 0.5       ,\n",
       "        0.81410256, 1.        ],\n",
       "       [0.54      , 0.53571429, 0.25      , 0.625     , 0.5       ,\n",
       "        0.47435897, 0.        ],\n",
       "       [0.44      , 0.25      , 0.        , 0.        , 0.125     ,\n",
       "        0.38782051, 1.        ],\n",
       "       [0.64      , 0.64285714, 0.5       , 0.5       , 0.625     ,\n",
       "        0.38461538, 0.        ],\n",
       "       [1.        , 0.71428571, 0.75      , 1.        , 0.875     ,\n",
       "        0.91666667, 1.        ],\n",
       "       [0.42      , 0.25      , 0.        , 0.375     , 0.5       ,\n",
       "        0.5224359 , 1.        ],\n",
       "       [0.6       , 1.        , 0.5       , 0.75      , 0.875     ,\n",
       "        0.74038462, 0.        ],\n",
       "       [0.52      , 0.21428571, 0.        , 0.125     , 0.25      ,\n",
       "        0.20192308, 0.        ],\n",
       "       [0.52      , 0.64285714, 0.5       , 0.625     , 0.75      ,\n",
       "        0.56410256, 0.        ],\n",
       "       [0.12      , 0.25      , 0.25      , 0.375     , 0.375     ,\n",
       "        0.39423077, 0.        ],\n",
       "       [0.14      , 0.32142857, 0.5       , 0.25      , 0.75      ,\n",
       "        0.27884615, 1.        ],\n",
       "       [0.32      , 0.28571429, 0.25      , 0.5       , 0.5       ,\n",
       "        0.38461538, 0.        ],\n",
       "       [0.82      , 0.71428571, 1.        , 0.75      , 1.        ,\n",
       "        0.96153846, 1.        ],\n",
       "       [0.76      , 0.57142857, 0.75      , 0.875     , 0.75      ,\n",
       "        0.76282051, 1.        ],\n",
       "       [0.5       , 0.64285714, 0.25      , 0.625     , 0.5       ,\n",
       "        0.53205128, 1.        ],\n",
       "       [0.52      , 0.28571429, 0.25      , 0.125     , 0.5       ,\n",
       "        0.43589744, 1.        ]])"
      ]
     },
     "execution_count": 16,
     "metadata": {},
     "output_type": "execute_result"
    }
   ],
   "source": [
    "X_test_scaled"
   ]
  },
  {
   "cell_type": "markdown",
   "id": "acb628ad",
   "metadata": {
    "papermill": {
     "duration": 0.009618,
     "end_time": "2023-08-20T06:07:19.402119",
     "exception": false,
     "start_time": "2023-08-20T06:07:19.392501",
     "status": "completed"
    },
    "tags": []
   },
   "source": [
    "To build NN Architecture \n",
    "Import Libraries"
   ]
  },
  {
   "cell_type": "code",
   "execution_count": 17,
   "id": "ccfc7ff2",
   "metadata": {
    "execution": {
     "iopub.execute_input": "2023-08-20T06:07:19.425024Z",
     "iopub.status.busy": "2023-08-20T06:07:19.423878Z",
     "iopub.status.idle": "2023-08-20T06:07:29.266038Z",
     "shell.execute_reply": "2023-08-20T06:07:29.264716Z"
    },
    "papermill": {
     "duration": 9.856787,
     "end_time": "2023-08-20T06:07:29.269018",
     "exception": false,
     "start_time": "2023-08-20T06:07:19.412231",
     "status": "completed"
    },
    "tags": []
   },
   "outputs": [
    {
     "name": "stderr",
     "output_type": "stream",
     "text": [
      "/opt/conda/lib/python3.10/site-packages/tensorflow_io/python/ops/__init__.py:98: UserWarning: unable to load libtensorflow_io_plugins.so: unable to open file: libtensorflow_io_plugins.so, from paths: ['/opt/conda/lib/python3.10/site-packages/tensorflow_io/python/ops/libtensorflow_io_plugins.so']\n",
      "caused by: ['/opt/conda/lib/python3.10/site-packages/tensorflow_io/python/ops/libtensorflow_io_plugins.so: undefined symbol: _ZN3tsl6StatusC1EN10tensorflow5error4CodeESt17basic_string_viewIcSt11char_traitsIcEENS_14SourceLocationE']\n",
      "  warnings.warn(f\"unable to load libtensorflow_io_plugins.so: {e}\")\n",
      "/opt/conda/lib/python3.10/site-packages/tensorflow_io/python/ops/__init__.py:104: UserWarning: file system plugins are not loaded: unable to open file: libtensorflow_io.so, from paths: ['/opt/conda/lib/python3.10/site-packages/tensorflow_io/python/ops/libtensorflow_io.so']\n",
      "caused by: ['/opt/conda/lib/python3.10/site-packages/tensorflow_io/python/ops/libtensorflow_io.so: undefined symbol: _ZTVN10tensorflow13GcsFileSystemE']\n",
      "  warnings.warn(f\"file system plugins are not loaded: {e}\")\n"
     ]
    }
   ],
   "source": [
    "import tensorflow\n",
    "from tensorflow import keras\n",
    "from keras import Sequential\n",
    "from keras.layers import Dense "
   ]
  },
  {
   "cell_type": "code",
   "execution_count": 18,
   "id": "927c8bfd",
   "metadata": {
    "execution": {
     "iopub.execute_input": "2023-08-20T06:07:29.297069Z",
     "iopub.status.busy": "2023-08-20T06:07:29.295799Z",
     "iopub.status.idle": "2023-08-20T06:07:29.412567Z",
     "shell.execute_reply": "2023-08-20T06:07:29.411571Z"
    },
    "papermill": {
     "duration": 0.134787,
     "end_time": "2023-08-20T06:07:29.415892",
     "exception": false,
     "start_time": "2023-08-20T06:07:29.281105",
     "status": "completed"
    },
    "tags": []
   },
   "outputs": [],
   "source": [
    "model = Sequential()"
   ]
  },
  {
   "cell_type": "code",
   "execution_count": 19,
   "id": "1419a5f4",
   "metadata": {
    "execution": {
     "iopub.execute_input": "2023-08-20T06:07:29.446944Z",
     "iopub.status.busy": "2023-08-20T06:07:29.445948Z",
     "iopub.status.idle": "2023-08-20T06:07:29.533517Z",
     "shell.execute_reply": "2023-08-20T06:07:29.532503Z"
    },
    "papermill": {
     "duration": 0.104997,
     "end_time": "2023-08-20T06:07:29.536453",
     "exception": false,
     "start_time": "2023-08-20T06:07:29.431456",
     "status": "completed"
    },
    "tags": []
   },
   "outputs": [],
   "source": [
    "model.add(Dense(7,activation = 'relu',input_dim=7))\n",
    "model.add(Dense(1,activation = 'linear'))"
   ]
  },
  {
   "cell_type": "code",
   "execution_count": 20,
   "id": "7cb2e521",
   "metadata": {
    "execution": {
     "iopub.execute_input": "2023-08-20T06:07:29.558978Z",
     "iopub.status.busy": "2023-08-20T06:07:29.558579Z",
     "iopub.status.idle": "2023-08-20T06:07:29.579764Z",
     "shell.execute_reply": "2023-08-20T06:07:29.578281Z"
    },
    "papermill": {
     "duration": 0.037231,
     "end_time": "2023-08-20T06:07:29.583993",
     "exception": false,
     "start_time": "2023-08-20T06:07:29.546762",
     "status": "completed"
    },
    "tags": []
   },
   "outputs": [
    {
     "name": "stdout",
     "output_type": "stream",
     "text": [
      "Model: \"sequential\"\n"
     ]
    },
    {
     "name": "stdout",
     "output_type": "stream",
     "text": [
      "_________________________________________________________________\n"
     ]
    },
    {
     "name": "stdout",
     "output_type": "stream",
     "text": [
      " Layer (type)                Output Shape              Param #   \n"
     ]
    },
    {
     "name": "stdout",
     "output_type": "stream",
     "text": [
      "=================================================================\n"
     ]
    },
    {
     "name": "stdout",
     "output_type": "stream",
     "text": [
      " dense (Dense)               (None, 7)                 56        \n"
     ]
    },
    {
     "name": "stdout",
     "output_type": "stream",
     "text": [
      "                                                                 \n"
     ]
    },
    {
     "name": "stdout",
     "output_type": "stream",
     "text": [
      " dense_1 (Dense)             (None, 1)                 8         \n"
     ]
    },
    {
     "name": "stdout",
     "output_type": "stream",
     "text": [
      "                                                                 \n"
     ]
    },
    {
     "name": "stdout",
     "output_type": "stream",
     "text": [
      "=================================================================\n"
     ]
    },
    {
     "name": "stdout",
     "output_type": "stream",
     "text": [
      "Total params: 64\n"
     ]
    },
    {
     "name": "stdout",
     "output_type": "stream",
     "text": [
      "Trainable params: 64\n"
     ]
    },
    {
     "name": "stdout",
     "output_type": "stream",
     "text": [
      "Non-trainable params: 0\n"
     ]
    },
    {
     "name": "stdout",
     "output_type": "stream",
     "text": [
      "_________________________________________________________________\n"
     ]
    }
   ],
   "source": [
    "model.summary()"
   ]
  },
  {
   "cell_type": "code",
   "execution_count": 21,
   "id": "94b08683",
   "metadata": {
    "execution": {
     "iopub.execute_input": "2023-08-20T06:07:29.612619Z",
     "iopub.status.busy": "2023-08-20T06:07:29.612134Z",
     "iopub.status.idle": "2023-08-20T06:07:29.636383Z",
     "shell.execute_reply": "2023-08-20T06:07:29.635490Z"
    },
    "papermill": {
     "duration": 0.042544,
     "end_time": "2023-08-20T06:07:29.638853",
     "exception": false,
     "start_time": "2023-08-20T06:07:29.596309",
     "status": "completed"
    },
    "tags": []
   },
   "outputs": [],
   "source": [
    "model.compile(loss=\"mean_squared_error\",optimizer='Adam')"
   ]
  },
  {
   "cell_type": "code",
   "execution_count": 22,
   "id": "c79d94f2",
   "metadata": {
    "execution": {
     "iopub.execute_input": "2023-08-20T06:07:29.662947Z",
     "iopub.status.busy": "2023-08-20T06:07:29.662572Z",
     "iopub.status.idle": "2023-08-20T06:07:31.702841Z",
     "shell.execute_reply": "2023-08-20T06:07:31.702015Z"
    },
    "papermill": {
     "duration": 2.055188,
     "end_time": "2023-08-20T06:07:31.705029",
     "exception": false,
     "start_time": "2023-08-20T06:07:29.649841",
     "status": "completed"
    },
    "tags": []
   },
   "outputs": [
    {
     "name": "stdout",
     "output_type": "stream",
     "text": [
      "Epoch 1/10\n"
     ]
    },
    {
     "name": "stdout",
     "output_type": "stream",
     "text": [
      "\r",
      " 1/10 [==>...........................] - ETA: 5s - loss: 1.8474"
     ]
    },
    {
     "name": "stdout",
     "output_type": "stream",
     "text": [
      "\b\b\b\b\b\b\b\b\b\b\b\b\b\b\b\b\b\b\b\b\b\b\b\b\b\b\b\b\b\b\b\b\b\b\b\b\b\b\b\b\b\b\b\b\b\b\b\b\b\b\b\b\b\b\b\b\b\b\b\b\b\b\b\r",
      "10/10 [==============================] - 1s 23ms/step - loss: 1.5945 - val_loss: 1.3774\n"
     ]
    },
    {
     "name": "stdout",
     "output_type": "stream",
     "text": [
      "Epoch 2/10\n"
     ]
    },
    {
     "name": "stdout",
     "output_type": "stream",
     "text": [
      "\r",
      " 1/10 [==>...........................] - ETA: 0s - loss: 1.3038"
     ]
    },
    {
     "name": "stdout",
     "output_type": "stream",
     "text": [
      "\b\b\b\b\b\b\b\b\b\b\b\b\b\b\b\b\b\b\b\b\b\b\b\b\b\b\b\b\b\b\b\b\b\b\b\b\b\b\b\b\b\b\b\b\b\b\b\b\b\b\b\b\b\b\b\b\b\b\b\b\b\b\b\r",
      "10/10 [==============================] - 0s 5ms/step - loss: 1.2268 - val_loss: 1.0397\n"
     ]
    },
    {
     "name": "stdout",
     "output_type": "stream",
     "text": [
      "Epoch 3/10\n"
     ]
    },
    {
     "name": "stdout",
     "output_type": "stream",
     "text": [
      "\r",
      " 1/10 [==>...........................] - ETA: 0s - loss: 1.1634"
     ]
    },
    {
     "name": "stdout",
     "output_type": "stream",
     "text": [
      "\b\b\b\b\b\b\b\b\b\b\b\b\b\b\b\b\b\b\b\b\b\b\b\b\b\b\b\b\b\b\b\b\b\b\b\b\b\b\b\b\b\b\b\b\b\b\b\b\b\b\b\b\b\b\b\b\b\b\b\b\b\b\b\r",
      "10/10 [==============================] - 0s 5ms/step - loss: 0.9263 - val_loss: 0.7715\n"
     ]
    },
    {
     "name": "stdout",
     "output_type": "stream",
     "text": [
      "Epoch 4/10\n"
     ]
    },
    {
     "name": "stdout",
     "output_type": "stream",
     "text": [
      "\r",
      " 1/10 [==>...........................] - ETA: 0s - loss: 0.8385"
     ]
    },
    {
     "name": "stdout",
     "output_type": "stream",
     "text": [
      "\b\b\b\b\b\b\b\b\b\b\b\b\b\b\b\b\b\b\b\b\b\b\b\b\b\b\b\b\b\b\b\b\b\b\b\b\b\b\b\b\b\b\b\b\b\b\b\b\b\b\b\b\b\b\b\b\b\b\b\b\b\b\b\r",
      "10/10 [==============================] - 0s 5ms/step - loss: 0.6872 - val_loss: 0.5650\n"
     ]
    },
    {
     "name": "stdout",
     "output_type": "stream",
     "text": [
      "Epoch 5/10\n"
     ]
    },
    {
     "name": "stdout",
     "output_type": "stream",
     "text": [
      "\r",
      " 1/10 [==>...........................] - ETA: 0s - loss: 0.5919"
     ]
    },
    {
     "name": "stdout",
     "output_type": "stream",
     "text": [
      "\b\b\b\b\b\b\b\b\b\b\b\b\b\b\b\b\b\b\b\b\b\b\b\b\b\b\b\b\b\b\b\b\b\b\b\b\b\b\b\b\b\b\b\b\b\b\b\b\b\b\b\b\b\b\b\b\b\b\b\b\b\b\b\r",
      "10/10 [==============================] - 0s 5ms/step - loss: 0.5040 - val_loss: 0.4053\n"
     ]
    },
    {
     "name": "stdout",
     "output_type": "stream",
     "text": [
      "Epoch 6/10\n"
     ]
    },
    {
     "name": "stdout",
     "output_type": "stream",
     "text": [
      "\r",
      " 1/10 [==>...........................] - ETA: 0s - loss: 0.3428"
     ]
    },
    {
     "name": "stdout",
     "output_type": "stream",
     "text": [
      "\b\b\b\b\b\b\b\b\b\b\b\b\b\b\b\b\b\b\b\b\b\b\b\b\b\b\b\b\b\b\b\b\b\b\b\b\b\b\b\b\b\b\b\b\b\b\b\b\b\b\b\b\b\b\b\b\b\b\b\b\b\b\b\r",
      "10/10 [==============================] - 0s 5ms/step - loss: 0.3585 - val_loss: 0.2857\n"
     ]
    },
    {
     "name": "stdout",
     "output_type": "stream",
     "text": [
      "Epoch 7/10\n"
     ]
    },
    {
     "name": "stdout",
     "output_type": "stream",
     "text": [
      "\r",
      " 1/10 [==>...........................] - ETA: 0s - loss: 0.2917"
     ]
    },
    {
     "name": "stdout",
     "output_type": "stream",
     "text": [
      "\b\b\b\b\b\b\b\b\b\b\b\b\b\b\b\b\b\b\b\b\b\b\b\b\b\b\b\b\b\b\b\b\b\b\b\b\b\b\b\b\b\b\b\b\b\b\b\b\b\b\b\b\b\b\b\b\b\b\b\b\b\b\b\r",
      "10/10 [==============================] - 0s 5ms/step - loss: 0.2541 - val_loss: 0.1947\n"
     ]
    },
    {
     "name": "stdout",
     "output_type": "stream",
     "text": [
      "Epoch 8/10\n"
     ]
    },
    {
     "name": "stdout",
     "output_type": "stream",
     "text": [
      "\r",
      " 1/10 [==>...........................] - ETA: 0s - loss: 0.2279"
     ]
    },
    {
     "name": "stdout",
     "output_type": "stream",
     "text": [
      "\b\b\b\b\b\b\b\b\b\b\b\b\b\b\b\b\b\b\b\b\b\b\b\b\b\b\b\b\b\b\b\b\b\b\b\b\b\b\b\b\b\b\b\b\b\b\b\b\b\b\b\b\b\b\b\b\b\b\b\b\b\b\b\r",
      "10/10 [==============================] - 0s 5ms/step - loss: 0.1749 - val_loss: 0.1297\n"
     ]
    },
    {
     "name": "stdout",
     "output_type": "stream",
     "text": [
      "Epoch 9/10\n"
     ]
    },
    {
     "name": "stdout",
     "output_type": "stream",
     "text": [
      "\r",
      " 1/10 [==>...........................] - ETA: 0s - loss: 0.1439"
     ]
    },
    {
     "name": "stdout",
     "output_type": "stream",
     "text": [
      "\b\b\b\b\b\b\b\b\b\b\b\b\b\b\b\b\b\b\b\b\b\b\b\b\b\b\b\b\b\b\b\b\b\b\b\b\b\b\b\b\b\b\b\b\b\b\b\b\b\b\b\b\b\b\b\b\b\b\b\b\b\b\b\r",
      "10/10 [==============================] - 0s 5ms/step - loss: 0.1183 - val_loss: 0.0851\n"
     ]
    },
    {
     "name": "stdout",
     "output_type": "stream",
     "text": [
      "Epoch 10/10\n"
     ]
    },
    {
     "name": "stdout",
     "output_type": "stream",
     "text": [
      "\r",
      " 1/10 [==>...........................] - ETA: 0s - loss: 0.0836"
     ]
    },
    {
     "name": "stdout",
     "output_type": "stream",
     "text": [
      "\b\b\b\b\b\b\b\b\b\b\b\b\b\b\b\b\b\b\b\b\b\b\b\b\b\b\b\b\b\b\b\b\b\b\b\b\b\b\b\b\b\b\b\b\b\b\b\b\b\b\b\b\b\b\b\b\b\b\b\b\b\b\b\r",
      "10/10 [==============================] - 0s 5ms/step - loss: 0.0803 - val_loss: 0.0557\n"
     ]
    },
    {
     "data": {
      "text/plain": [
       "<keras.callbacks.History at 0x7a8b5c663b80>"
      ]
     },
     "execution_count": 22,
     "metadata": {},
     "output_type": "execute_result"
    }
   ],
   "source": [
    "model.fit(X_train_scaled,Y_train,epochs=10,validation_split = 0.2)"
   ]
  },
  {
   "cell_type": "code",
   "execution_count": 23,
   "id": "868e3b24",
   "metadata": {
    "execution": {
     "iopub.execute_input": "2023-08-20T06:07:31.732135Z",
     "iopub.status.busy": "2023-08-20T06:07:31.731746Z",
     "iopub.status.idle": "2023-08-20T06:07:31.909165Z",
     "shell.execute_reply": "2023-08-20T06:07:31.907892Z"
    },
    "papermill": {
     "duration": 0.194348,
     "end_time": "2023-08-20T06:07:31.912246",
     "exception": false,
     "start_time": "2023-08-20T06:07:31.717898",
     "status": "completed"
    },
    "tags": []
   },
   "outputs": [
    {
     "name": "stdout",
     "output_type": "stream",
     "text": [
      "\r",
      "1/4 [======>.......................] - ETA: 0s"
     ]
    },
    {
     "name": "stdout",
     "output_type": "stream",
     "text": [
      "\b\b\b\b\b\b\b\b\b\b\b\b\b\b\b\b\b\b\b\b\b\b\b\b\b\b\b\b\b\b\b\b\b\b\b\b\b\b\b\b\b\b\b\b\b\b\r",
      "4/4 [==============================] - 0s 2ms/step\n"
     ]
    }
   ],
   "source": [
    "y_pred = model.predict(X_test_scaled)"
   ]
  },
  {
   "cell_type": "code",
   "execution_count": 24,
   "id": "ee6f1af1",
   "metadata": {
    "execution": {
     "iopub.execute_input": "2023-08-20T06:07:31.940337Z",
     "iopub.status.busy": "2023-08-20T06:07:31.939528Z",
     "iopub.status.idle": "2023-08-20T06:07:31.949216Z",
     "shell.execute_reply": "2023-08-20T06:07:31.947535Z"
    },
    "papermill": {
     "duration": 0.026437,
     "end_time": "2023-08-20T06:07:31.951782",
     "exception": false,
     "start_time": "2023-08-20T06:07:31.925345",
     "status": "completed"
    },
    "tags": []
   },
   "outputs": [
    {
     "data": {
      "text/plain": [
       "-2.3934146273959587"
      ]
     },
     "execution_count": 24,
     "metadata": {},
     "output_type": "execute_result"
    }
   ],
   "source": [
    "from sklearn.metrics import r2_score\n",
    "r2_score(Y_test,y_pred)"
   ]
  },
  {
   "cell_type": "markdown",
   "id": "3da3cbe9",
   "metadata": {
    "papermill": {
     "duration": 0.012557,
     "end_time": "2023-08-20T06:07:31.977447",
     "exception": false,
     "start_time": "2023-08-20T06:07:31.964890",
     "status": "completed"
    },
    "tags": []
   },
   "source": [
    "At this point the perform of our model is too bad, we can imporove the performance of our model by increase layer in the NN and by increasing epochs"
   ]
  },
  {
   "cell_type": "code",
   "execution_count": 25,
   "id": "8e37307e",
   "metadata": {
    "execution": {
     "iopub.execute_input": "2023-08-20T06:07:32.005392Z",
     "iopub.status.busy": "2023-08-20T06:07:32.004281Z",
     "iopub.status.idle": "2023-08-20T06:07:32.057843Z",
     "shell.execute_reply": "2023-08-20T06:07:32.056653Z"
    },
    "papermill": {
     "duration": 0.070207,
     "end_time": "2023-08-20T06:07:32.060398",
     "exception": false,
     "start_time": "2023-08-20T06:07:31.990191",
     "status": "completed"
    },
    "tags": []
   },
   "outputs": [],
   "source": [
    "model.add(Dense(7,activation ='relu',input_dim=7))\n",
    "model.add(Dense(7,activation = 'relu'))\n",
    "model.add(Dense(7,activation = 'relu'))\n",
    "model.add(Dense(1,activation = 'linear'))"
   ]
  },
  {
   "cell_type": "code",
   "execution_count": 26,
   "id": "0117edd5",
   "metadata": {
    "execution": {
     "iopub.execute_input": "2023-08-20T06:07:32.088631Z",
     "iopub.status.busy": "2023-08-20T06:07:32.087938Z",
     "iopub.status.idle": "2023-08-20T06:07:32.118022Z",
     "shell.execute_reply": "2023-08-20T06:07:32.116501Z"
    },
    "papermill": {
     "duration": 0.047476,
     "end_time": "2023-08-20T06:07:32.121180",
     "exception": false,
     "start_time": "2023-08-20T06:07:32.073704",
     "status": "completed"
    },
    "tags": []
   },
   "outputs": [
    {
     "name": "stdout",
     "output_type": "stream",
     "text": [
      "Model: \"sequential\"\n"
     ]
    },
    {
     "name": "stdout",
     "output_type": "stream",
     "text": [
      "_________________________________________________________________\n"
     ]
    },
    {
     "name": "stdout",
     "output_type": "stream",
     "text": [
      " Layer (type)                Output Shape              Param #   \n"
     ]
    },
    {
     "name": "stdout",
     "output_type": "stream",
     "text": [
      "=================================================================\n"
     ]
    },
    {
     "name": "stdout",
     "output_type": "stream",
     "text": [
      " dense (Dense)               (None, 7)                 56        \n"
     ]
    },
    {
     "name": "stdout",
     "output_type": "stream",
     "text": [
      "                                                                 \n"
     ]
    },
    {
     "name": "stdout",
     "output_type": "stream",
     "text": [
      " dense_1 (Dense)             (None, 1)                 8         \n"
     ]
    },
    {
     "name": "stdout",
     "output_type": "stream",
     "text": [
      "                                                                 \n"
     ]
    },
    {
     "name": "stdout",
     "output_type": "stream",
     "text": [
      " dense_2 (Dense)             (None, 7)                 14        \n"
     ]
    },
    {
     "name": "stdout",
     "output_type": "stream",
     "text": [
      "                                                                 \n"
     ]
    },
    {
     "name": "stdout",
     "output_type": "stream",
     "text": [
      " dense_3 (Dense)             (None, 7)                 56        \n"
     ]
    },
    {
     "name": "stdout",
     "output_type": "stream",
     "text": [
      "                                                                 \n"
     ]
    },
    {
     "name": "stdout",
     "output_type": "stream",
     "text": [
      " dense_4 (Dense)             (None, 7)                 56        \n"
     ]
    },
    {
     "name": "stdout",
     "output_type": "stream",
     "text": [
      "                                                                 \n"
     ]
    },
    {
     "name": "stdout",
     "output_type": "stream",
     "text": [
      " dense_5 (Dense)             (None, 1)                 8         \n"
     ]
    },
    {
     "name": "stdout",
     "output_type": "stream",
     "text": [
      "                                                                 \n"
     ]
    },
    {
     "name": "stdout",
     "output_type": "stream",
     "text": [
      "=================================================================\n"
     ]
    },
    {
     "name": "stdout",
     "output_type": "stream",
     "text": [
      "Total params: 198\n"
     ]
    },
    {
     "name": "stdout",
     "output_type": "stream",
     "text": [
      "Trainable params: 198\n"
     ]
    },
    {
     "name": "stdout",
     "output_type": "stream",
     "text": [
      "Non-trainable params: 0\n"
     ]
    },
    {
     "name": "stdout",
     "output_type": "stream",
     "text": [
      "_________________________________________________________________\n"
     ]
    }
   ],
   "source": [
    "model.summary()"
   ]
  },
  {
   "cell_type": "code",
   "execution_count": 27,
   "id": "911b965d",
   "metadata": {
    "execution": {
     "iopub.execute_input": "2023-08-20T06:07:32.151604Z",
     "iopub.status.busy": "2023-08-20T06:07:32.150743Z",
     "iopub.status.idle": "2023-08-20T06:07:32.164721Z",
     "shell.execute_reply": "2023-08-20T06:07:32.163573Z"
    },
    "papermill": {
     "duration": 0.031911,
     "end_time": "2023-08-20T06:07:32.167318",
     "exception": false,
     "start_time": "2023-08-20T06:07:32.135407",
     "status": "completed"
    },
    "tags": []
   },
   "outputs": [],
   "source": [
    "model.compile(loss='mean_squared_error', optimizer='Adam')"
   ]
  },
  {
   "cell_type": "code",
   "execution_count": null,
   "id": "74761a47",
   "metadata": {
    "execution": {
     "iopub.execute_input": "2023-08-20T05:58:43.584022Z",
     "iopub.status.busy": "2023-08-20T05:58:43.583555Z",
     "iopub.status.idle": "2023-08-20T05:58:50.128733Z",
     "shell.execute_reply": "2023-08-20T05:58:50.127240Z",
     "shell.execute_reply.started": "2023-08-20T05:58:43.583985Z"
    },
    "papermill": {
     "duration": null,
     "end_time": null,
     "exception": false,
     "start_time": "2023-08-20T06:07:32.182153",
     "status": "running"
    },
    "tags": []
   },
   "outputs": [],
   "source": [
    "output = model.fit(X_train_scaled, Y_train,epochs=100,validation_split=0.2)"
   ]
  },
  {
   "cell_type": "code",
   "execution_count": null,
   "id": "18c2ba55",
   "metadata": {
    "execution": {
     "iopub.execute_input": "2023-08-20T05:58:58.415046Z",
     "iopub.status.busy": "2023-08-20T05:58:58.414508Z",
     "iopub.status.idle": "2023-08-20T05:58:58.516580Z",
     "shell.execute_reply": "2023-08-20T05:58:58.515239Z",
     "shell.execute_reply.started": "2023-08-20T05:58:58.415005Z"
    },
    "papermill": {
     "duration": null,
     "end_time": null,
     "exception": null,
     "start_time": null,
     "status": "pending"
    },
    "tags": []
   },
   "outputs": [],
   "source": [
    "y_pred= model.predict(X_test_scaled)"
   ]
  },
  {
   "cell_type": "code",
   "execution_count": null,
   "id": "1091deb7",
   "metadata": {
    "execution": {
     "iopub.execute_input": "2023-08-20T05:58:58.893181Z",
     "iopub.status.busy": "2023-08-20T05:58:58.892362Z",
     "iopub.status.idle": "2023-08-20T05:58:58.902306Z",
     "shell.execute_reply": "2023-08-20T05:58:58.900785Z",
     "shell.execute_reply.started": "2023-08-20T05:58:58.893130Z"
    },
    "papermill": {
     "duration": null,
     "end_time": null,
     "exception": null,
     "start_time": null,
     "status": "pending"
    },
    "tags": []
   },
   "outputs": [],
   "source": [
    "from sklearn.metrics import r2_score\n",
    "r2_score(Y_test,y_pred)"
   ]
  },
  {
   "cell_type": "markdown",
   "id": "456c5c20",
   "metadata": {
    "papermill": {
     "duration": null,
     "end_time": null,
     "exception": null,
     "start_time": null,
     "status": "pending"
    },
    "tags": []
   },
   "source": [
    "Now the accuracy of our model has increased fron -1 to 0.79"
   ]
  },
  {
   "cell_type": "code",
   "execution_count": null,
   "id": "116d1e42",
   "metadata": {
    "execution": {
     "iopub.execute_input": "2023-08-20T05:59:35.427678Z",
     "iopub.status.busy": "2023-08-20T05:59:35.426194Z",
     "iopub.status.idle": "2023-08-20T05:59:35.433061Z",
     "shell.execute_reply": "2023-08-20T05:59:35.431880Z",
     "shell.execute_reply.started": "2023-08-20T05:59:35.427631Z"
    },
    "papermill": {
     "duration": null,
     "end_time": null,
     "exception": null,
     "start_time": null,
     "status": "pending"
    },
    "tags": []
   },
   "outputs": [],
   "source": [
    "import matplotlib.pyplot as plt\n"
   ]
  },
  {
   "cell_type": "code",
   "execution_count": null,
   "id": "90545299",
   "metadata": {
    "execution": {
     "iopub.execute_input": "2023-08-20T06:05:10.294755Z",
     "iopub.status.busy": "2023-08-20T06:05:10.294113Z",
     "iopub.status.idle": "2023-08-20T06:05:10.657141Z",
     "shell.execute_reply": "2023-08-20T06:05:10.653922Z",
     "shell.execute_reply.started": "2023-08-20T06:05:10.294709Z"
    },
    "papermill": {
     "duration": null,
     "end_time": null,
     "exception": null,
     "start_time": null,
     "status": "pending"
    },
    "tags": []
   },
   "outputs": [],
   "source": [
    "plt.plot(output.history['loss'])\n",
    "plt.plot(output.history['val_loss'])"
   ]
  },
  {
   "cell_type": "code",
   "execution_count": null,
   "id": "5db3df0e",
   "metadata": {
    "papermill": {
     "duration": null,
     "end_time": null,
     "exception": null,
     "start_time": null,
     "status": "pending"
    },
    "tags": []
   },
   "outputs": [],
   "source": []
  }
 ],
 "metadata": {
  "kernelspec": {
   "display_name": "Python 3",
   "language": "python",
   "name": "python3"
  },
  "language_info": {
   "codemirror_mode": {
    "name": "ipython",
    "version": 3
   },
   "file_extension": ".py",
   "mimetype": "text/x-python",
   "name": "python",
   "nbconvert_exporter": "python",
   "pygments_lexer": "ipython3",
   "version": "3.6.4"
  },
  "papermill": {
   "default_parameters": {},
   "duration": null,
   "end_time": null,
   "environment_variables": {},
   "exception": null,
   "input_path": "__notebook__.ipynb",
   "output_path": "__notebook__.ipynb",
   "parameters": {},
   "start_time": "2023-08-20T06:07:07.731549",
   "version": "2.4.0"
  }
 },
 "nbformat": 4,
 "nbformat_minor": 5
}